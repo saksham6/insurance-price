{
 "cells": [
  {
   "cell_type": "code",
   "execution_count": 1,
   "id": "inclusive-reset",
   "metadata": {},
   "outputs": [],
   "source": [
    "import pandas as pd\n",
    "import matplotlib.pyplot as plt\n",
    "%matplotlib inline\n",
    "import seaborn as sns\n",
    "import numpy as np\n",
    "# from sklearn.cluster import KMeans\n",
    "# from sklearn import metrics\n",
    "# from sklearn import datasets, ensemble\n",
    "# from sklearn.inspection import permutation_importance\n",
    "# from sklearn.metrics import mean_squared_error\n",
    "from sklearn.model_selection import train_test_split"
   ]
  },
  {
   "cell_type": "code",
   "execution_count": 2,
   "id": "previous-retreat",
   "metadata": {},
   "outputs": [
    {
     "ename": "NameError",
     "evalue": "name 'xgboost' is not defined",
     "output_type": "error",
     "traceback": [
      "\u001b[1;31m---------------------------------------------------------------------------\u001b[0m",
      "\u001b[1;31mNameError\u001b[0m                                 Traceback (most recent call last)",
      "\u001b[1;32m<ipython-input-2-a3bae4f1ae26>\u001b[0m in \u001b[0;36m<module>\u001b[1;34m\u001b[0m\n\u001b[1;32m----> 1\u001b[1;33m \u001b[0mxgboost\u001b[0m\u001b[1;33m.\u001b[0m\u001b[0m__version__\u001b[0m\u001b[1;33m\u001b[0m\u001b[1;33m\u001b[0m\u001b[0m\n\u001b[0m",
      "\u001b[1;31mNameError\u001b[0m: name 'xgboost' is not defined"
     ]
    }
   ],
   "source": [
    "xgboost.__version__"
   ]
  },
  {
   "cell_type": "code",
   "execution_count": null,
   "id": "romantic-lucas",
   "metadata": {},
   "outputs": [],
   "source": [
    "pd. show_versions()"
   ]
  },
  {
   "cell_type": "code",
   "execution_count": null,
   "id": "accompanied-publication",
   "metadata": {},
   "outputs": [],
   "source": [
    "df=pd.read_csv(\"Data.csv\")"
   ]
  },
  {
   "cell_type": "code",
   "execution_count": null,
   "id": "filled-breath",
   "metadata": {},
   "outputs": [],
   "source": [
    "df.head()"
   ]
  },
  {
   "cell_type": "code",
   "execution_count": null,
   "id": "pleased-committee",
   "metadata": {},
   "outputs": [],
   "source": [
    "df.info()"
   ]
  },
  {
   "cell_type": "code",
   "execution_count": null,
   "id": "catholic-glass",
   "metadata": {},
   "outputs": [],
   "source": [
    "df['years_of_insurance_with_us']=df['years_of_insurance_with_us'].astype('object')\n",
    "df['adventure_sports']=df['adventure_sports'].astype('object')\n",
    "df['visited_doctor_last_1_year']=df['visited_doctor_last_1_year'].astype('object')\n",
    "df['heart_decs_history']=df['heart_decs_history'].astype('object')\n",
    "df['other_major_decs_history']=df['other_major_decs_history'].astype('object')\n",
    "df['Year_last_admitted']=df['Year_last_admitted'].astype('object')\n",
    "df['other_major_decs_history']=df['other_major_decs_history'].astype('object')\n",
    "df['other_major_decs_history']=df['other_major_decs_history'].astype('object')\n",
    "df['other_major_decs_history']=df['other_major_decs_history'].astype('object')\n",
    "df['regular_checkup_lasy_year']=df['regular_checkup_lasy_year'].astype('object')"
   ]
  },
  {
   "cell_type": "code",
   "execution_count": null,
   "id": "supreme-poverty",
   "metadata": {},
   "outputs": [],
   "source": [
    "df.dropna(subset=['Year_last_admitted'], inplace=True)"
   ]
  },
  {
   "cell_type": "code",
   "execution_count": null,
   "id": "elegant-venture",
   "metadata": {},
   "outputs": [],
   "source": [
    "df_median=df['bmi'].median()"
   ]
  },
  {
   "cell_type": "code",
   "execution_count": null,
   "id": "cutting-boards",
   "metadata": {},
   "outputs": [],
   "source": [
    "df=df.fillna(value=df_median)"
   ]
  },
  {
   "cell_type": "code",
   "execution_count": null,
   "id": "ready-syndication",
   "metadata": {},
   "outputs": [],
   "source": [
    "df=df.replace('Unknown', np.nan)"
   ]
  },
  {
   "cell_type": "code",
   "execution_count": null,
   "id": "controversial-glossary",
   "metadata": {},
   "outputs": [],
   "source": [
    "df = df[df['smoking_status'].notna()]"
   ]
  },
  {
   "cell_type": "code",
   "execution_count": null,
   "id": "filled-martin",
   "metadata": {},
   "outputs": [],
   "source": [
    "df.info()"
   ]
  },
  {
   "cell_type": "code",
   "execution_count": null,
   "id": "quantitative-gregory",
   "metadata": {},
   "outputs": [],
   "source": [
    "for feature in df.columns: \n",
    "    if df[feature].dtype == 'object': \n",
    "        print('\\n')\n",
    "        print('feature:',feature)\n",
    "        print(pd.Categorical(df[feature].unique()))\n",
    "        print(pd.Categorical(df[feature].unique()).codes)\n",
    "        df[feature] = pd.Categorical(df[feature]).codes"
   ]
  },
  {
   "cell_type": "code",
   "execution_count": null,
   "id": "palestinian-fireplace",
   "metadata": {},
   "outputs": [],
   "source": [
    "# df = pd.get_dummies(df, columns=['Occupation','Gender','smoking_status','covered_by_any_other_company','Alcohol','exercise'])"
   ]
  },
  {
   "cell_type": "code",
   "execution_count": null,
   "id": "arbitrary-drilling",
   "metadata": {},
   "outputs": [],
   "source": [
    "df.head()"
   ]
  },
  {
   "cell_type": "code",
   "execution_count": null,
   "id": "advisory-parks",
   "metadata": {},
   "outputs": [],
   "source": []
  },
  {
   "cell_type": "code",
   "execution_count": null,
   "id": "skilled-tackle",
   "metadata": {
    "scrolled": false
   },
   "outputs": [],
   "source": [
    "df.info()"
   ]
  },
  {
   "cell_type": "code",
   "execution_count": null,
   "id": "flying-honor",
   "metadata": {},
   "outputs": [],
   "source": [
    "# df['cholesterol_level']=np.where(df['cholesterol_level'] =='125 to 150', 'good', df['cholesterol_level'])\n",
    "# df['cholesterol_level']=np.where(df['cholesterol_level'] =='150 to 175', 'acceptable', df['cholesterol_level'])\n",
    "# df['cholesterol_level']=np.where(df['cholesterol_level'] =='175 to 200', 'acceptable', df['cholesterol_level'])\n",
    "# df['cholesterol_level']=np.where(df['cholesterol_level'] =='200 to 225', 'borderline', df['cholesterol_level'])\n",
    "# df['cholesterol_level']=np.where(df['cholesterol_level'] =='225 to 250', 'risk', df['cholesterol_level'])"
   ]
  },
  {
   "cell_type": "code",
   "execution_count": null,
   "id": "civic-scanning",
   "metadata": {},
   "outputs": [],
   "source": [
    "# df = pd.get_dummies(df, columns=['cholesterol_level'])"
   ]
  },
  {
   "cell_type": "code",
   "execution_count": null,
   "id": "toxic-vermont",
   "metadata": {},
   "outputs": [],
   "source": [
    "df.info()"
   ]
  },
  {
   "cell_type": "code",
   "execution_count": null,
   "id": "approximate-undergraduate",
   "metadata": {},
   "outputs": [],
   "source": [
    "df=df.drop(['Location'], axis=1)"
   ]
  },
  {
   "cell_type": "code",
   "execution_count": null,
   "id": "bibliographic-drinking",
   "metadata": {},
   "outputs": [],
   "source": [
    "df=df.drop(['applicant_id'], axis=1)"
   ]
  },
  {
   "cell_type": "code",
   "execution_count": null,
   "id": "changed-composition",
   "metadata": {},
   "outputs": [],
   "source": [
    "df=df.drop(['Year_last_admitted'], axis=1)"
   ]
  },
  {
   "cell_type": "code",
   "execution_count": null,
   "id": "corrected-handle",
   "metadata": {},
   "outputs": [],
   "source": [
    "df.info()"
   ]
  },
  {
   "cell_type": "code",
   "execution_count": null,
   "id": "rental-giving",
   "metadata": {},
   "outputs": [],
   "source": [
    "# Copy all the predictor variables into X dataframe\n",
    "X1 = df.drop('insurance_cost', axis=1)\n",
    "\n",
    "# Copy target into the y dataframe. \n",
    "y1 = df[['insurance_cost']]"
   ]
  },
  {
   "cell_type": "code",
   "execution_count": null,
   "id": "coated-syndication",
   "metadata": {},
   "outputs": [],
   "source": [
    "# Split X and y into training and test set in 70:30 ratio\n",
    "from sklearn.model_selection import train_test_split\n",
    "X_train1, X_test1, y_train1, y_test1 = train_test_split(X1, y1, test_size=0.3 , random_state=1)"
   ]
  },
  {
   "cell_type": "code",
   "execution_count": null,
   "id": "requested-massachusetts",
   "metadata": {},
   "outputs": [],
   "source": [
    "# !pip install xgboost\n",
    "import xgboost\n",
    "regressor=xgboost.XGBRegressor()"
   ]
  },
  {
   "cell_type": "code",
   "execution_count": null,
   "id": "august-cartoon",
   "metadata": {},
   "outputs": [],
   "source": [
    "regressor.fit(X_train1,y_train1)"
   ]
  },
  {
   "cell_type": "code",
   "execution_count": null,
   "id": "accepting-congo",
   "metadata": {},
   "outputs": [],
   "source": [
    "#R square of training data\n",
    "regressor.score(X_train1,y_train1)"
   ]
  },
  {
   "cell_type": "code",
   "execution_count": null,
   "id": "historical-antique",
   "metadata": {},
   "outputs": [],
   "source": [
    "#R square of testing data\n",
    "regressor.score(X_test1,y_test1)"
   ]
  },
  {
   "cell_type": "code",
   "execution_count": null,
   "id": "thick-kazakhstan",
   "metadata": {},
   "outputs": [],
   "source": [
    "import pickle"
   ]
  },
  {
   "cell_type": "code",
   "execution_count": null,
   "id": "pregnant-aging",
   "metadata": {},
   "outputs": [],
   "source": [
    "# save the model to disk\n",
    "pickle_out = open(\"testModel.pkl\",\"wb\")\n",
    "pickle.dump(regressor, pickle_out)\n",
    "loaded_model = pickle.load(open(\"testModel.pkl\", \"rb\")) \n",
    "result = loaded_model.score(X_test1, y_test1) \n",
    "print(result)"
   ]
  }
 ],
 "metadata": {
  "kernelspec": {
   "display_name": "Python 3",
   "language": "python",
   "name": "python3"
  },
  "language_info": {
   "codemirror_mode": {
    "name": "ipython",
    "version": 3
   },
   "file_extension": ".py",
   "mimetype": "text/x-python",
   "name": "python",
   "nbconvert_exporter": "python",
   "pygments_lexer": "ipython3",
   "version": "3.8.8"
  }
 },
 "nbformat": 4,
 "nbformat_minor": 5
}
